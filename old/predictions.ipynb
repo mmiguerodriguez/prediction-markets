{
 "cells": [
  {
   "cell_type": "markdown",
   "metadata": {},
   "source": [
    "## Simulacion de predicciones secuenciales"
   ]
  },
  {
   "cell_type": "code",
   "execution_count": 8,
   "metadata": {},
   "outputs": [],
   "source": [
    "import numpy as np\n",
    "import random\n",
    "import math\n",
    "import json\n",
    "import matplotlib.pyplot as plt"
   ]
  },
  {
   "cell_type": "code",
   "execution_count": 9,
   "metadata": {},
   "outputs": [],
   "source": [
    "class Agent:\n",
    "  def __init__(self, belief, strategyFunc, scoringRule):\n",
    "    self.belief = belief\n",
    "    self.scoringRule = scoringRule\n",
    "    self.strategyFunc = strategyFunc\n",
    "\n",
    "  def getBelief(self):\n",
    "    return self.belief\n",
    "\n",
    "  def applyStrategy(self, marketState):\n",
    "    return self.strategyFunc(marketState)\n",
    "  \n",
    "  def getScoringRule(self):\n",
    "    return self.scoringRule\n",
    "  \n",
    "class Belief:\n",
    "  @staticmethod\n",
    "  def randomBelief():\n",
    "    return random.uniform(0, 1)\n",
    "\n",
    "  @staticmethod\n",
    "  def fixedBelief(belief):\n",
    "    return belief\n",
    "\n",
    "  @staticmethod\n",
    "  def errorBelief(real_probability, delta):\n",
    "    return real_probability + random.uniform(-delta, delta)\n",
    "\n",
    "class ScoringRules:\n",
    "  c = 0.1\n",
    "\n",
    "  @staticmethod\n",
    "  def logRule(p, q):\n",
    "    if ((p == 0 or p == 1) and q != 0 and q != 1):\n",
    "      return -math.inf\n",
    "    elif (q == p and (q == 0 or q == 1)):\n",
    "      return 0\n",
    "    return round((q * np.log(p) + (1 - q) * np.log((1 - p))), 4)\n",
    "\n",
    "  @staticmethod\n",
    "  def brierRule(p, q):\n",
    "    return -(q * ((1 - p) ** 2) + (1 - q) * (p ** 2))\n",
    "\n",
    "  @staticmethod\n",
    "  def quadraticError(p, q):\n",
    "    return -((p - q) ** 2)\n",
    "\n",
    "  @staticmethod\n",
    "  def f(p, q):\n",
    "    return round((ScoringRules.c * p + (1 - ScoringRules.c) * q), 2)\n",
    "\n",
    "  @staticmethod\n",
    "  def getPredictionScore(p_i, q, rule):\n",
    "    if rule == \"log\":\n",
    "      return ScoringRules.logRule(p_i, q)\n",
    "    elif rule == \"brier\":\n",
    "      return ScoringRules.brierRule(p_i, q)\n",
    "    else:\n",
    "      return ScoringRules.quadraticError(p_i, q)\n"
   ]
  },
  {
   "cell_type": "code",
   "execution_count": 10,
   "metadata": {},
   "outputs": [],
   "source": [
    "\n",
    "def evaluateStrategies(agents, q, rule):\n",
    "  n = len(agents)\n",
    "  w = [1/n] * n\n",
    "\n",
    "  scores, predictions, marketProbability, marketPrediction = simulate(agents, w, q)\n",
    "\n",
    "  marketPrediction = round(marketPrediction, 2)\n",
    "  marketScore = ScoringRules.getPredictionScore(marketPrediction, marketProbability, rule)\n",
    "\n",
    "  results = {\n",
    "    \"scores\": scores,\n",
    "    \"predictions\": predictions,\n",
    "    \"marketProbability\": marketProbability,\n",
    "    \"marketPrediction\": marketPrediction,\n",
    "    \"marketScore\": marketScore,\n",
    "  }\n",
    "\n",
    "  return results"
   ]
  },
  {
   "cell_type": "code",
   "execution_count": 15,
   "metadata": {},
   "outputs": [],
   "source": [
    "def simulate(agents, w, q):\n",
    "  n = len(agents)\n",
    "\n",
    "  scores = [0] * n\n",
    "  predictions = []\n",
    "\n",
    "  for i, agent in enumerate(agents):\n",
    "    p = agent.getBelief()\n",
    "    predictions.append(p)\n",
    "\n",
    "  # Calculate market prediction\n",
    "  marketPrediction = 0\n",
    "  for i in range(n):\n",
    "    marketPrediction += w[i] * predictions[i]\n",
    "  marketProbability = ScoringRules.f(marketPrediction, q)\n",
    "\n",
    "  # Calculate scores for each agent\n",
    "  for i, agent in enumerate(agents):\n",
    "    scores[i] = ScoringRules.getPredictionScore(predictions[i], marketProbability, agent.getScoringRule())\n",
    "\n",
    "  return scores, predictions, marketProbability, marketPrediction\n",
    "\n",
    "def plot_brute_force_scores(brute_force_scores):\n",
    "  probabilities = [score[0] for score in brute_force_scores]\n",
    "  scores = [score[1] for score in brute_force_scores]\n",
    "\n",
    "  # plt.figure(figsize=(6, 6))\n",
    "  plt.plot(probabilities, scores, marker='o')\n",
    "  plt.title('Brute Force Scores')\n",
    "  plt.xlabel('Probability')\n",
    "  plt.ylabel('Score')\n",
    "  plt.grid(True)\n",
    "  plt.show()"
   ]
  },
  {
   "cell_type": "code",
   "execution_count": 16,
   "metadata": {},
   "outputs": [
    {
     "data": {
      "image/png": "[encoded data removed]",
      "text/plain": [
       "<Figure size 640x480 with 1 Axes>"
      ]
     },
     "metadata": {},
     "output_type": "display_data"
    },
    {
     "name": "stdout",
     "output_type": "stream",
     "text": [
      "{\n",
      "  \"scores\": [\n",
      "    -0.25318201881284796,\n",
      "    -0.25606189622122216,\n",
      "    -0.2517647805511795,\n",
      "    -0.25020326728583686,\n",
      "    -0.2566016049779429\n",
      "  ],\n",
      "  \"predictions\": [\n",
      "    0.4435906141422552,\n",
      "    0.5778581801818036,\n",
      "    0.5420092912482408,\n",
      "    0.4857428163427393,\n",
      "    0.581250261402305\n",
      "  ],\n",
      "  \"marketProbability\": 0.5,\n",
      "  \"marketPrediction\": 0.53,\n",
      "  \"marketScore\": -0.2509\n",
      "}\n"
     ]
    }
   ],
   "source": [
    "q = 0.5\n",
    "\n",
    "agents = [\n",
    "  Agent(Belief.errorBelief(q, 0.1), None, \"brier\"),\n",
    "  Agent(Belief.errorBelief(q, 0.1), None, \"brier\"),\n",
    "  # Agent(Belief.errorBelief(q, 0.1), None, \"brier\"),\n",
    "  # Agent(Belief.errorBelief(q, 0.1), None, \"brier\"),\n",
    "  # Agent(Belief.errorBelief(q, 0.1), None, \"brier\")\n",
    "]\n",
    "\n",
    "results = evaluateStrategies(agents, q, rule=\"brier\")\n",
    "\n",
    "print(json.dumps(results, indent=2))"
   ]
  },
  {
   "cell_type": "code",
   "execution_count": null,
   "metadata": {},
   "outputs": [],
   "source": []
  },
  {
   "cell_type": "code",
   "execution_count": null,
   "metadata": {},
   "outputs": [],
   "source": []
  }
 ],
 "metadata": {
  "kernelspec": {
   "display_name": "thesis-venv",
   "language": "python",
   "name": "python3"
  },
  "language_info": {
   "codemirror_mode": {
    "name": "ipython",
    "version": 3
   },
   "file_extension": ".py",
   "mimetype": "text/x-python",
   "name": "python",
   "nbconvert_exporter": "python",
   "pygments_lexer": "ipython3",
   "version": "3.12.7"
  }
 },
 "nbformat": 4,
 "nbformat_minor": 2
}
