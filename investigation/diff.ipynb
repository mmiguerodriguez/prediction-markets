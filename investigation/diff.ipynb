{
 "cells": [
  {
   "cell_type": "code",
   "execution_count": null,
   "metadata": {
    "vscode": {
     "languageId": "plaintext"
    }
   },
   "outputs": [],
   "source": [
    "import json\n",
    "import pandas as pd\n",
    "import numpy as np\n",
    "import seaborn as sns\n",
    "# Load JSON data\n",
    "with open('../results/1738621030.json') as f:\n",
    "  data1 = json.load(f)\n",
    "\n",
    "with open('../results/1738621460.json') as f:\n",
    "  data2 = json.load(f)\n",
    "\n",
    "# Extract scores and predictions\n",
    "scores1 = np.array(data1['scores'])\n",
    "scores2 = np.array(data2['scores'])\n",
    "predictions1 = np.array(data1['predictions'])\n",
    "predictions2 = np.array(data2['predictions'])\n",
    "ps1 = np.array(data1['config']['ps'])\n",
    "ps2 = np.array(data2['config']['ps'])\n",
    "\n",
    "# Calculate differences\n",
    "score_diff = scores1 - scores2\n",
    "prediction_diff = predictions1 - predictions2\n",
    "ps_diff = ps1 - ps2\n",
    "\n",
    "# Create DataFrames for better visualization\n",
    "score_df1 = pd.DataFrame(scores1, columns=['p1', 'p2', 'p3'])\n",
    "score_df2 = pd.DataFrame(scores2, columns=['p1', 'p2', 'p3'])\n",
    "score_diff_df = pd.DataFrame(score_diff, columns=['p1', 'p2', 'p3'])\n",
    "\n",
    "prediction_df1 = pd.DataFrame(predictions1, columns=['p1', 'p2', 'p3'])\n",
    "prediction_df2 = pd.DataFrame(predictions2, columns=['p1', 'p2', 'p3'])\n",
    "prediction_diff_df = pd.DataFrame(prediction_diff, columns=['p1', 'p2', 'p3'])\n",
    "\n",
    "ps_df1 = pd.DataFrame(ps1, columns=['p1', 'p2', 'p3'])\n",
    "ps_df2 = pd.DataFrame(ps2, columns=['p1', 'p2', 'p3'])\n",
    "ps_diff_df = pd.DataFrame(ps_diff, columns=['p1', 'p2', 'p3'])\n",
    "\n",
    "q_values = np.arange(0, 1.05, 0.05)\n",
    "score_diff_df.insert(0, 'q', q_values)\n",
    "prediction_diff_df.insert(0, 'q', q_values)\n",
    "ps_diff_df.insert(0, 'q', q_values)\n",
    "# score_diff_df['q'] = score_diff_df['q'].round(2)\n",
    "# prediction_diff_df['q'] = prediction_diff_df['q'].round(2)\n",
    "\n",
    "# Display diffs\n",
    "# print('Difference in scores:')\n",
    "# display(score_diff_df.style.hide(axis='index'))\n",
    "\n",
    "# print('Difference in predictions:')\n",
    "# display(prediction_diff_df.style.hide(axis='index'))\n",
    "\n",
    "# print('Difference in ps:')\n",
    "# display(ps_diff_df.style.hide(axis='index'))\n",
    "\n",
    "def plot_heatmap(df, title):\n",
    "  plt.figure(figsize=(10, 8))\n",
    "  sns.heatmap(df.set_index('q'), annot=True, fmt=\".2f\", cmap='coolwarm', cbar=True)\n",
    "  plt.title(title)\n",
    "  plt.show()\n",
    "\n",
    "# Plot the differences\n",
    "plot_heatmap(score_diff_df, 'Difference in Scores')\n",
    "plot_heatmap(prediction_diff_df, 'Difference in Predictions')"
   ]
  }
 ],
 "metadata": {
  "language_info": {
   "name": "python"
  }
 },
 "nbformat": 4,
 "nbformat_minor": 2
}
